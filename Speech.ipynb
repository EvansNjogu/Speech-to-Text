{
 "cells": [
  {
   "cell_type": "markdown",
   "source": [
    "## Install and Import Dependencies"
   ],
   "metadata": {}
  },
  {
   "cell_type": "code",
   "execution_count": 1,
   "source": [
    "!pip install ibm_watson"
   ],
   "outputs": [
    {
     "output_type": "stream",
     "name": "stdout",
     "text": [
      "Requirement already satisfied: ibm_watson in c:\\users\\user\\anaconda3\\lib\\site-packages (4.7.0)\n",
      "Requirement already satisfied: python-dateutil>=2.5.3 in c:\\users\\user\\anaconda3\\lib\\site-packages (from ibm_watson) (2.8.1)\n",
      "Requirement already satisfied: ibm-cloud-sdk-core==1.5.1 in c:\\users\\user\\anaconda3\\lib\\site-packages (from ibm_watson) (1.5.1)\n",
      "Requirement already satisfied: requests<3.0,>=2.0 in c:\\users\\user\\anaconda3\\lib\\site-packages (from ibm_watson) (2.25.1)\n",
      "Requirement already satisfied: websocket-client==0.48.0 in c:\\users\\user\\anaconda3\\lib\\site-packages (from ibm_watson) (0.48.0)\n",
      "Requirement already satisfied: PyJWT>=1.7.1 in c:\\users\\user\\anaconda3\\lib\\site-packages (from ibm-cloud-sdk-core==1.5.1->ibm_watson) (2.1.0)\n",
      "Requirement already satisfied: six in c:\\users\\user\\anaconda3\\lib\\site-packages (from websocket-client==0.48.0->ibm_watson) (1.15.0)\n",
      "Requirement already satisfied: backports.ssl_match_hostname in c:\\users\\user\\anaconda3\\lib\\site-packages (from websocket-client==0.48.0->ibm_watson) (3.7.0.1)\n",
      "Requirement already satisfied: chardet<5,>=3.0.2 in c:\\users\\user\\anaconda3\\lib\\site-packages (from requests<3.0,>=2.0->ibm_watson) (4.0.0)\n",
      "Requirement already satisfied: certifi>=2017.4.17 in c:\\users\\user\\anaconda3\\lib\\site-packages (from requests<3.0,>=2.0->ibm_watson) (2020.12.5)\n",
      "Requirement already satisfied: idna<3,>=2.5 in c:\\users\\user\\anaconda3\\lib\\site-packages (from requests<3.0,>=2.0->ibm_watson) (2.10)\n",
      "Requirement already satisfied: urllib3<1.27,>=1.21.1 in c:\\users\\user\\anaconda3\\lib\\site-packages (from requests<3.0,>=2.0->ibm_watson) (1.26.4)\n"
     ]
    }
   ],
   "metadata": {
    "scrolled": true
   }
  },
  {
   "cell_type": "code",
   "execution_count": 2,
   "source": [
    "from ibm_watson import SpeechToTextV1\r\n",
    "from ibm_cloud_sdk_core.authenticators import IAMAuthenticator"
   ],
   "outputs": [],
   "metadata": {
    "scrolled": true
   }
  },
  {
   "cell_type": "markdown",
   "source": [
    "## Setup STT Service"
   ],
   "metadata": {}
  },
  {
   "cell_type": "code",
   "execution_count": 3,
   "source": [
    "apikey = 'J53WMuUcbq78_rTz6u5zTSOp0s6rjeHbFvAuztVNVicK'\r\n",
    "url = 'https://api.eu-gb.speech-to-text.watson.cloud.ibm.com/instances/7b3d61bc-c775-472a-9fcf-a13711d742af' "
   ],
   "outputs": [],
   "metadata": {}
  },
  {
   "cell_type": "code",
   "execution_count": 4,
   "source": [
    "#Setup Serice\r\n",
    "authenticator = IAMAuthenticator(apikey)\r\n",
    "stt = SpeechToTextV1(authenticator=authenticator)\r\n",
    "stt.set_service_url(url)"
   ],
   "outputs": [],
   "metadata": {}
  },
  {
   "cell_type": "markdown",
   "source": [
    "## Open Audio Source and Convert"
   ],
   "metadata": {}
  },
  {
   "cell_type": "code",
   "execution_count": 7,
   "source": [
    "#Perform Conversion\r\n",
    "with open('Speech-to-Text.mp3', 'rb') as f:\r\n",
    "    res = stt.recognize(audio=f, content_type='audio/mp3', model='en-US_NarrowbandModel', continuous=True).get_result()"
   ],
   "outputs": [],
   "metadata": {}
  },
  {
   "cell_type": "code",
   "execution_count": 8,
   "source": [
    "res"
   ],
   "outputs": [
    {
     "output_type": "execute_result",
     "data": {
      "text/plain": [
       "{'result_index': 0,\n",
       " 'results': [{'final': True,\n",
       "   'alternatives': [{'transcript': 'speech to text ', 'confidence': 0.91}]}]}"
      ]
     },
     "metadata": {},
     "execution_count": 8
    }
   ],
   "metadata": {}
  },
  {
   "cell_type": "code",
   "execution_count": 9,
   "source": [
    "text = res['results'][0]['alternatives'][0]['transcript']\r\n",
    "text"
   ],
   "outputs": [
    {
     "output_type": "execute_result",
     "data": {
      "text/plain": [
       "'speech to text '"
      ]
     },
     "metadata": {},
     "execution_count": 9
    }
   ],
   "metadata": {}
  },
  {
   "cell_type": "code",
   "execution_count": 10,
   "source": [
    "confidence = res['results'][0]['alternatives'][0]['confidence']\r\n",
    "confidence"
   ],
   "outputs": [
    {
     "output_type": "execute_result",
     "data": {
      "text/plain": [
       "0.91"
      ]
     },
     "metadata": {},
     "execution_count": 10
    }
   ],
   "metadata": {}
  },
  {
   "cell_type": "code",
   "execution_count": 11,
   "source": [
    "with open('output.txt', 'w') as out:\r\n",
    "    out.writelines(text)"
   ],
   "outputs": [],
   "metadata": {}
  }
 ],
 "metadata": {
  "interpreter": {
   "hash": "8fac594bfae6525c0c41b4041d2d72effa188cc8ead05f81b1fab2bb098927fb"
  },
  "kernelspec": {
   "name": "python3",
   "display_name": "Python 3.8.8 64-bit ('base': conda)"
  },
  "language_info": {
   "codemirror_mode": {
    "name": "ipython",
    "version": 3
   },
   "file_extension": ".py",
   "mimetype": "text/x-python",
   "name": "python",
   "nbconvert_exporter": "python",
   "pygments_lexer": "ipython3",
   "version": "3.8.8"
  }
 },
 "nbformat": 4,
 "nbformat_minor": 5
}